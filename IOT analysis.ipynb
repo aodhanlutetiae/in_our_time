{
 "cells": [
  {
   "cell_type": "markdown",
   "metadata": {},
   "source": [
    "## import and clean\n",
    "\n",
    "> Note - the solution here might be to pickle the original file and not lose all the file formats via csv. But the pickle runs into recurion problems at the moment.\n",
    "\n",
    "> Note - this df is not finished (people and affil still have to be extracted from scraped data) but I can make a start"
   ]
  },
  {
   "cell_type": "code",
   "execution_count": 75,
   "metadata": {},
   "outputs": [],
   "source": [
    "import pandas as pd\n",
    "from ast import literal_eval"
   ]
  },
  {
   "cell_type": "code",
   "execution_count": 3,
   "metadata": {},
   "outputs": [
    {
     "name": "stdout",
     "output_type": "stream",
     "text": [
      "(876, 7)\n"
     ]
    },
    {
     "data": {
      "text/html": [
       "<div>\n",
       "<style scoped>\n",
       "    .dataframe tbody tr th:only-of-type {\n",
       "        vertical-align: middle;\n",
       "    }\n",
       "\n",
       "    .dataframe tbody tr th {\n",
       "        vertical-align: top;\n",
       "    }\n",
       "\n",
       "    .dataframe thead th {\n",
       "        text-align: right;\n",
       "    }\n",
       "</style>\n",
       "<table border=\"1\" class=\"dataframe\">\n",
       "  <thead>\n",
       "    <tr style=\"text-align: right;\">\n",
       "      <th></th>\n",
       "      <th>subject</th>\n",
       "      <th>summary</th>\n",
       "      <th>date_str</th>\n",
       "      <th>featured_in_tags</th>\n",
       "      <th>address</th>\n",
       "      <th>date_dt</th>\n",
       "      <th>day</th>\n",
       "    </tr>\n",
       "  </thead>\n",
       "  <tbody>\n",
       "    <tr>\n",
       "      <th>615</th>\n",
       "      <td>Magnetism</td>\n",
       "      <td>Melvyn Bragg and guests discuss the history of...</td>\n",
       "      <td>29-09-2005</td>\n",
       "      <td>['Science']</td>\n",
       "      <td>https://www.bbc.co.uk/programmes/p003k9dd</td>\n",
       "      <td>2005-09-29</td>\n",
       "      <td>Thursday</td>\n",
       "    </tr>\n",
       "    <tr>\n",
       "      <th>356</th>\n",
       "      <td>Judas Maccabeus</td>\n",
       "      <td>Melvyn Bragg and his guests discuss the revolu...</td>\n",
       "      <td>24-11-2011</td>\n",
       "      <td>['Religion', 'In Our Time: History - Top 10']</td>\n",
       "      <td>https://www.bbc.co.uk/programmes/b017cjm8</td>\n",
       "      <td>2011-11-24</td>\n",
       "      <td>Thursday</td>\n",
       "    </tr>\n",
       "    <tr>\n",
       "      <th>782</th>\n",
       "      <td>Science and Religion</td>\n",
       "      <td>Melvyn Bragg and guests discuss the areas of c...</td>\n",
       "      <td>25-01-2001</td>\n",
       "      <td>['Religion']</td>\n",
       "      <td>https://www.bbc.co.uk/programmes/p005479y</td>\n",
       "      <td>2001-01-25</td>\n",
       "      <td>Thursday</td>\n",
       "    </tr>\n",
       "    <tr>\n",
       "      <th>405</th>\n",
       "      <td>Sturm und Drang</td>\n",
       "      <td>Melvyn Bragg and his guests discuss the artist...</td>\n",
       "      <td>14-10-2010</td>\n",
       "      <td>['Enlightenment', '18th Century', 'Culture']</td>\n",
       "      <td>https://www.bbc.co.uk/programmes/b00v72x6</td>\n",
       "      <td>2010-10-14</td>\n",
       "      <td>Thursday</td>\n",
       "    </tr>\n",
       "    <tr>\n",
       "      <th>49</th>\n",
       "      <td>Nero</td>\n",
       "      <td>Melvyn Bragg and guests discuss the life of Ne...</td>\n",
       "      <td>25-04-2019</td>\n",
       "      <td>['Ancient Rome', 'History']</td>\n",
       "      <td>https://www.bbc.co.uk/programmes/m0004cp7</td>\n",
       "      <td>2019-04-25</td>\n",
       "      <td>Thursday</td>\n",
       "    </tr>\n",
       "  </tbody>\n",
       "</table>\n",
       "</div>"
      ],
      "text/plain": [
       "                  subject                                            summary  \\\n",
       "615             Magnetism  Melvyn Bragg and guests discuss the history of...   \n",
       "356       Judas Maccabeus  Melvyn Bragg and his guests discuss the revolu...   \n",
       "782  Science and Religion  Melvyn Bragg and guests discuss the areas of c...   \n",
       "405       Sturm und Drang  Melvyn Bragg and his guests discuss the artist...   \n",
       "49                   Nero  Melvyn Bragg and guests discuss the life of Ne...   \n",
       "\n",
       "       date_str                               featured_in_tags  \\\n",
       "615  29-09-2005                                    ['Science']   \n",
       "356  24-11-2011  ['Religion', 'In Our Time: History - Top 10']   \n",
       "782  25-01-2001                                   ['Religion']   \n",
       "405  14-10-2010   ['Enlightenment', '18th Century', 'Culture']   \n",
       "49   25-04-2019                    ['Ancient Rome', 'History']   \n",
       "\n",
       "                                       address     date_dt       day  \n",
       "615  https://www.bbc.co.uk/programmes/p003k9dd  2005-09-29  Thursday  \n",
       "356  https://www.bbc.co.uk/programmes/b017cjm8  2011-11-24  Thursday  \n",
       "782  https://www.bbc.co.uk/programmes/p005479y  2001-01-25  Thursday  \n",
       "405  https://www.bbc.co.uk/programmes/b00v72x6  2010-10-14  Thursday  \n",
       "49   https://www.bbc.co.uk/programmes/m0004cp7  2019-04-25  Thursday  "
      ]
     },
     "execution_count": 3,
     "metadata": {},
     "output_type": "execute_result"
    }
   ],
   "source": [
    "df = pd.read_csv('iot_df_halfclean.csv')\n",
    "print(df.shape)\n",
    "df.sample(5)"
   ]
  },
  {
   "cell_type": "code",
   "execution_count": 7,
   "metadata": {},
   "outputs": [],
   "source": [
    "# fix date time\n",
    "\n",
    "df['date_dt'] = df['date_dt'].astype('datetime64[ns]')"
   ]
  },
  {
   "cell_type": "code",
   "execution_count": 71,
   "metadata": {},
   "outputs": [],
   "source": [
    "# function to covert string to lists in tags col\n",
    "\n",
    "def sl (x):\n",
    "    x = literal_eval(x)\n",
    "    return x\n",
    "\n",
    "# use function to make new col\n",
    "\n",
    "df['tags'] = df.featured_in_tags.apply(sl)"
   ]
  },
  {
   "cell_type": "code",
   "execution_count": 77,
   "metadata": {},
   "outputs": [],
   "source": [
    "# drop old tags col\n",
    "\n",
    "df.drop(df.columns[3], axis=1, inplace = True)"
   ]
  },
  {
   "cell_type": "markdown",
   "metadata": {},
   "source": [
    "## initial querying"
   ]
  },
  {
   "cell_type": "code",
   "execution_count": 4,
   "metadata": {},
   "outputs": [
    {
     "data": {
      "text/plain": [
       "875"
      ]
     },
     "execution_count": 4,
     "metadata": {},
     "output_type": "execute_result"
    }
   ],
   "source": [
    "# how many topics?\n",
    "\n",
    "df.subject.nunique()\n",
    "\n",
    "# One subject - artificial intel - is run twice"
   ]
  },
  {
   "cell_type": "code",
   "execution_count": 18,
   "metadata": {},
   "outputs": [
    {
     "data": {
      "text/plain": [
       "23"
      ]
     },
     "execution_count": 18,
     "metadata": {},
     "output_type": "execute_result"
    }
   ],
   "source": [
    "# how many years have we got?\n",
    "\n",
    "df.date_dt.dt.year.nunique()"
   ]
  },
  {
   "cell_type": "code",
   "execution_count": 22,
   "metadata": {
    "collapsed": true
   },
   "outputs": [
    {
     "data": {
      "text/plain": [
       "date_dt\n",
       "1998    12\n",
       "1999    44\n",
       "2000    34\n",
       "2001    33\n",
       "2002    38\n",
       "2003    36\n",
       "2004    40\n",
       "2005    37\n",
       "2006    42\n",
       "2007    42\n",
       "2008    41\n",
       "2009    42\n",
       "2010    41\n",
       "2011    43\n",
       "2012    43\n",
       "2013    40\n",
       "2014    38\n",
       "2015    41\n",
       "2016    39\n",
       "2017    34\n",
       "2018    37\n",
       "2019    39\n",
       "2020    40\n",
       "Name: subject, dtype: int64"
      ]
     },
     "execution_count": 22,
     "metadata": {},
     "output_type": "execute_result"
    }
   ],
   "source": [
    "# how many progs each year? Around 40\n",
    "\n",
    "df.groupby(df.date_dt.dt.year)['subject'].count()"
   ]
  },
  {
   "cell_type": "code",
   "execution_count": 27,
   "metadata": {},
   "outputs": [
    {
     "data": {
      "text/html": [
       "<div>\n",
       "<style scoped>\n",
       "    .dataframe tbody tr th:only-of-type {\n",
       "        vertical-align: middle;\n",
       "    }\n",
       "\n",
       "    .dataframe tbody tr th {\n",
       "        vertical-align: top;\n",
       "    }\n",
       "\n",
       "    .dataframe thead th {\n",
       "        text-align: right;\n",
       "    }\n",
       "</style>\n",
       "<table border=\"1\" class=\"dataframe\">\n",
       "  <thead>\n",
       "    <tr style=\"text-align: right;\">\n",
       "      <th></th>\n",
       "      <th>subject</th>\n",
       "      <th>summary</th>\n",
       "      <th>date_str</th>\n",
       "      <th>featured_in_tags</th>\n",
       "      <th>address</th>\n",
       "      <th>date_dt</th>\n",
       "      <th>day</th>\n",
       "    </tr>\n",
       "  </thead>\n",
       "  <tbody>\n",
       "    <tr>\n",
       "      <th>23</th>\n",
       "      <td>Catullus</td>\n",
       "      <td>Melvyn Bragg and guests discuss Catullus (c84-...</td>\n",
       "      <td>09-01-2020</td>\n",
       "      <td>['Ancient Rome', 'Culture']</td>\n",
       "      <td>https://www.bbc.co.uk/programmes/m000d1rg</td>\n",
       "      <td>2020-01-09</td>\n",
       "      <td>Thursday</td>\n",
       "    </tr>\n",
       "    <tr>\n",
       "      <th>22</th>\n",
       "      <td>The Siege of Paris 1870-71</td>\n",
       "      <td>Melvyn Bragg and guests discuss the siege of P...</td>\n",
       "      <td>16-01-2020</td>\n",
       "      <td>['19th Century', 'History']</td>\n",
       "      <td>https://www.bbc.co.uk/programmes/m000d8rv</td>\n",
       "      <td>2020-01-16</td>\n",
       "      <td>Thursday</td>\n",
       "    </tr>\n",
       "    <tr>\n",
       "      <th>21</th>\n",
       "      <td>Solar Wind</td>\n",
       "      <td>Melvyn Bragg and guests discuss the flow of pa...</td>\n",
       "      <td>23-01-2020</td>\n",
       "      <td>['Science']</td>\n",
       "      <td>https://www.bbc.co.uk/programmes/m000dg9n</td>\n",
       "      <td>2020-01-23</td>\n",
       "      <td>Thursday</td>\n",
       "    </tr>\n",
       "    <tr>\n",
       "      <th>20</th>\n",
       "      <td>Alcuin</td>\n",
       "      <td>Melvyn Bragg and guests discuss Alcuin of York...</td>\n",
       "      <td>30-01-2020</td>\n",
       "      <td>['Early Middle Ages', 'History']</td>\n",
       "      <td>https://www.bbc.co.uk/programmes/m000dqy8</td>\n",
       "      <td>2020-01-30</td>\n",
       "      <td>Thursday</td>\n",
       "    </tr>\n",
       "    <tr>\n",
       "      <th>19</th>\n",
       "      <td>George Sand</td>\n",
       "      <td>Melvyn Bragg and guests discuss the works and ...</td>\n",
       "      <td>06-02-2020</td>\n",
       "      <td>['19th Century', 'Culture']</td>\n",
       "      <td>https://www.bbc.co.uk/programmes/m000dxsr</td>\n",
       "      <td>2020-02-06</td>\n",
       "      <td>Thursday</td>\n",
       "    </tr>\n",
       "  </tbody>\n",
       "</table>\n",
       "</div>"
      ],
      "text/plain": [
       "                       subject  \\\n",
       "23                    Catullus   \n",
       "22  The Siege of Paris 1870-71   \n",
       "21                  Solar Wind   \n",
       "20                      Alcuin   \n",
       "19                 George Sand   \n",
       "\n",
       "                                              summary    date_str  \\\n",
       "23  Melvyn Bragg and guests discuss Catullus (c84-...  09-01-2020   \n",
       "22  Melvyn Bragg and guests discuss the siege of P...  16-01-2020   \n",
       "21  Melvyn Bragg and guests discuss the flow of pa...  23-01-2020   \n",
       "20  Melvyn Bragg and guests discuss Alcuin of York...  30-01-2020   \n",
       "19  Melvyn Bragg and guests discuss the works and ...  06-02-2020   \n",
       "\n",
       "                    featured_in_tags  \\\n",
       "23       ['Ancient Rome', 'Culture']   \n",
       "22       ['19th Century', 'History']   \n",
       "21                       ['Science']   \n",
       "20  ['Early Middle Ages', 'History']   \n",
       "19       ['19th Century', 'Culture']   \n",
       "\n",
       "                                      address    date_dt       day  \n",
       "23  https://www.bbc.co.uk/programmes/m000d1rg 2020-01-09  Thursday  \n",
       "22  https://www.bbc.co.uk/programmes/m000d8rv 2020-01-16  Thursday  \n",
       "21  https://www.bbc.co.uk/programmes/m000dg9n 2020-01-23  Thursday  \n",
       "20  https://www.bbc.co.uk/programmes/m000dqy8 2020-01-30  Thursday  \n",
       "19  https://www.bbc.co.uk/programmes/m000dxsr 2020-02-06  Thursday  "
      ]
     },
     "execution_count": 27,
     "metadata": {},
     "output_type": "execute_result"
    }
   ],
   "source": [
    "# filter for 2020\n",
    "\n",
    "df[df.date_dt.dt.year == 2020].sort_values('date_dt').head()"
   ]
  },
  {
   "cell_type": "markdown",
   "metadata": {},
   "source": [
    "## subject tags"
   ]
  },
  {
   "cell_type": "code",
   "execution_count": 152,
   "metadata": {},
   "outputs": [
    {
     "data": {
      "text/plain": [
       "146"
      ]
     },
     "execution_count": 152,
     "metadata": {},
     "output_type": "execute_result"
    }
   ],
   "source": [
    "# how many different tags are used?\n",
    "\n",
    "tag_list = []\n",
    "\n",
    "for x in range(len(df)):\n",
    "    z = df.iat[x, 6]\n",
    "    for y in z:\n",
    "        if y not in tag_list:\n",
    "            tag_list.append(y)\n",
    "\n",
    "len(tag_list)"
   ]
  },
  {
   "cell_type": "code",
   "execution_count": 165,
   "metadata": {},
   "outputs": [
    {
     "data": {
      "text/html": [
       "<div>\n",
       "<style scoped>\n",
       "    .dataframe tbody tr th:only-of-type {\n",
       "        vertical-align: middle;\n",
       "    }\n",
       "\n",
       "    .dataframe tbody tr th {\n",
       "        vertical-align: top;\n",
       "    }\n",
       "\n",
       "    .dataframe thead th {\n",
       "        text-align: right;\n",
       "    }\n",
       "</style>\n",
       "<table border=\"1\" class=\"dataframe\">\n",
       "  <thead>\n",
       "    <tr style=\"text-align: right;\">\n",
       "      <th></th>\n",
       "      <th>subject</th>\n",
       "      <th>summary</th>\n",
       "      <th>date_str</th>\n",
       "      <th>address</th>\n",
       "      <th>date_dt</th>\n",
       "      <th>day</th>\n",
       "      <th>tags</th>\n",
       "    </tr>\n",
       "  </thead>\n",
       "  <tbody>\n",
       "    <tr>\n",
       "      <th>295</th>\n",
       "      <td>Japan's Sakoku Period</td>\n",
       "      <td>Melvyn Bragg and his guests discuss Japan's Sa...</td>\n",
       "      <td>04-04-2013</td>\n",
       "      <td>https://www.bbc.co.uk/programmes/b01rlptf</td>\n",
       "      <td>2013-04-04</td>\n",
       "      <td>Thursday</td>\n",
       "      <td>[]</td>\n",
       "    </tr>\n",
       "    <tr>\n",
       "      <th>331</th>\n",
       "      <td>Marco Polo</td>\n",
       "      <td>Melvyn Bragg and his guests discuss the celebr...</td>\n",
       "      <td>24-05-2012</td>\n",
       "      <td>https://www.bbc.co.uk/programmes/b01hxpxh</td>\n",
       "      <td>2012-05-24</td>\n",
       "      <td>Thursday</td>\n",
       "      <td>[]</td>\n",
       "    </tr>\n",
       "    <tr>\n",
       "      <th>332</th>\n",
       "      <td>Clausewitz and On War</td>\n",
       "      <td>Melvyn Bragg and his guests discuss On War, a ...</td>\n",
       "      <td>17-05-2012</td>\n",
       "      <td>https://www.bbc.co.uk/programmes/b01hl293</td>\n",
       "      <td>2012-05-17</td>\n",
       "      <td>Thursday</td>\n",
       "      <td>[]</td>\n",
       "    </tr>\n",
       "    <tr>\n",
       "      <th>335</th>\n",
       "      <td>The Battle of Bosworth Field</td>\n",
       "      <td>Melvyn Bragg and his guests discuss the Battle...</td>\n",
       "      <td>26-04-2012</td>\n",
       "      <td>https://www.bbc.co.uk/programmes/b01ghc43</td>\n",
       "      <td>2012-04-26</td>\n",
       "      <td>Thursday</td>\n",
       "      <td>[]</td>\n",
       "    </tr>\n",
       "    <tr>\n",
       "      <th>357</th>\n",
       "      <td>Ptolemy and Ancient Astronomy</td>\n",
       "      <td>Melvyn Bragg and his guests discuss the ancien...</td>\n",
       "      <td>17-11-2011</td>\n",
       "      <td>https://www.bbc.co.uk/programmes/b017528d</td>\n",
       "      <td>2011-11-17</td>\n",
       "      <td>Thursday</td>\n",
       "      <td>[]</td>\n",
       "    </tr>\n",
       "    <tr>\n",
       "      <th>360</th>\n",
       "      <td>The Siege of Tenochtitlan</td>\n",
       "      <td>Melvyn Bragg and his guests discuss the Siege ...</td>\n",
       "      <td>27-10-2011</td>\n",
       "      <td>https://www.bbc.co.uk/programmes/b016924x</td>\n",
       "      <td>2011-10-27</td>\n",
       "      <td>Thursday</td>\n",
       "      <td>[]</td>\n",
       "    </tr>\n",
       "    <tr>\n",
       "      <th>364</th>\n",
       "      <td>The Etruscan Civilisation</td>\n",
       "      <td>Melvyn Bragg and his guests discuss the Etrusc...</td>\n",
       "      <td>29-09-2011</td>\n",
       "      <td>https://www.bbc.co.uk/programmes/b0151q7j</td>\n",
       "      <td>2011-09-29</td>\n",
       "      <td>Thursday</td>\n",
       "      <td>[]</td>\n",
       "    </tr>\n",
       "  </tbody>\n",
       "</table>\n",
       "</div>"
      ],
      "text/plain": [
       "                           subject  \\\n",
       "295          Japan's Sakoku Period   \n",
       "331                     Marco Polo   \n",
       "332          Clausewitz and On War   \n",
       "335   The Battle of Bosworth Field   \n",
       "357  Ptolemy and Ancient Astronomy   \n",
       "360      The Siege of Tenochtitlan   \n",
       "364      The Etruscan Civilisation   \n",
       "\n",
       "                                               summary    date_str  \\\n",
       "295  Melvyn Bragg and his guests discuss Japan's Sa...  04-04-2013   \n",
       "331  Melvyn Bragg and his guests discuss the celebr...  24-05-2012   \n",
       "332  Melvyn Bragg and his guests discuss On War, a ...  17-05-2012   \n",
       "335  Melvyn Bragg and his guests discuss the Battle...  26-04-2012   \n",
       "357  Melvyn Bragg and his guests discuss the ancien...  17-11-2011   \n",
       "360  Melvyn Bragg and his guests discuss the Siege ...  27-10-2011   \n",
       "364  Melvyn Bragg and his guests discuss the Etrusc...  29-09-2011   \n",
       "\n",
       "                                       address    date_dt       day tags  \n",
       "295  https://www.bbc.co.uk/programmes/b01rlptf 2013-04-04  Thursday   []  \n",
       "331  https://www.bbc.co.uk/programmes/b01hxpxh 2012-05-24  Thursday   []  \n",
       "332  https://www.bbc.co.uk/programmes/b01hl293 2012-05-17  Thursday   []  \n",
       "335  https://www.bbc.co.uk/programmes/b01ghc43 2012-04-26  Thursday   []  \n",
       "357  https://www.bbc.co.uk/programmes/b017528d 2011-11-17  Thursday   []  \n",
       "360  https://www.bbc.co.uk/programmes/b016924x 2011-10-27  Thursday   []  \n",
       "364  https://www.bbc.co.uk/programmes/b0151q7j 2011-09-29  Thursday   []  "
      ]
     },
     "execution_count": 165,
     "metadata": {},
     "output_type": "execute_result"
    }
   ],
   "source": [
    "# show the rows where tag lists are empty\n",
    "\n",
    "i_list = []\n",
    "\n",
    "for x in range(len(df)):\n",
    "    z = df.iat[x, 6]\n",
    "    if len(z) == 0:\n",
    "        i_list.append(x)\n",
    "\n",
    "df[df.index.isin(i_list)]"
   ]
  },
  {
   "cell_type": "code",
   "execution_count": 195,
   "metadata": {},
   "outputs": [],
   "source": [
    "# filter by tag\n",
    "\n",
    "def filt_list(d, tag):\n",
    "    \"\"\"takes 2 args - a dataframe (with a tags column!) and a tag - and returns rows in the df which contain the tag in the taglist \n",
    "    of the last column\"\"\"\n",
    "\n",
    "    filtered_list = []\n",
    "\n",
    "    for x in range(len(d.tags)):\n",
    "        row_cont = d.tags.loc[x]\n",
    "        if tag in row_cont:\n",
    "            filtered_list.append(x)\n",
    "\n",
    "    filtered = d[d.index.isin(filtered_list)]\n",
    "    len_filtered = (len(filtered))\n",
    "    print(len_filtered)\n",
    "\n",
    "    return filtered\n"
   ]
  },
  {
   "cell_type": "code",
   "execution_count": 196,
   "metadata": {},
   "outputs": [
    {
     "name": "stdout",
     "output_type": "stream",
     "text": [
      "2\n"
     ]
    },
    {
     "data": {
      "text/html": [
       "<div>\n",
       "<style scoped>\n",
       "    .dataframe tbody tr th:only-of-type {\n",
       "        vertical-align: middle;\n",
       "    }\n",
       "\n",
       "    .dataframe tbody tr th {\n",
       "        vertical-align: top;\n",
       "    }\n",
       "\n",
       "    .dataframe thead th {\n",
       "        text-align: right;\n",
       "    }\n",
       "</style>\n",
       "<table border=\"1\" class=\"dataframe\">\n",
       "  <thead>\n",
       "    <tr style=\"text-align: right;\">\n",
       "      <th></th>\n",
       "      <th>subject</th>\n",
       "      <th>summary</th>\n",
       "      <th>date_str</th>\n",
       "      <th>address</th>\n",
       "      <th>date_dt</th>\n",
       "      <th>day</th>\n",
       "      <th>tags</th>\n",
       "    </tr>\n",
       "  </thead>\n",
       "  <tbody>\n",
       "    <tr>\n",
       "      <th>435</th>\n",
       "      <td>Mary Wollstonecraft</td>\n",
       "      <td>Melvyn Bragg and guests John Mullan, Karen O'B...</td>\n",
       "      <td>31-12-2009</td>\n",
       "      <td>https://www.bbc.co.uk/programmes/b00pg5dr</td>\n",
       "      <td>2009-12-31</td>\n",
       "      <td>Thursday</td>\n",
       "      <td>[Enlightenment, 18th Century, Philosophy, Hist...</td>\n",
       "    </tr>\n",
       "    <tr>\n",
       "      <th>863</th>\n",
       "      <td>Feminism</td>\n",
       "      <td>Melvyn Bragg and guests discuss one of the mos...</td>\n",
       "      <td>07-01-1999</td>\n",
       "      <td>https://www.bbc.co.uk/programmes/p00545b0</td>\n",
       "      <td>1999-01-07</td>\n",
       "      <td>Thursday</td>\n",
       "      <td>[20th Century, Philosophy, Culture, Feminism]</td>\n",
       "    </tr>\n",
       "  </tbody>\n",
       "</table>\n",
       "</div>"
      ],
      "text/plain": [
       "                 subject                                            summary  \\\n",
       "435  Mary Wollstonecraft  Melvyn Bragg and guests John Mullan, Karen O'B...   \n",
       "863             Feminism  Melvyn Bragg and guests discuss one of the mos...   \n",
       "\n",
       "       date_str                                    address    date_dt  \\\n",
       "435  31-12-2009  https://www.bbc.co.uk/programmes/b00pg5dr 2009-12-31   \n",
       "863  07-01-1999  https://www.bbc.co.uk/programmes/p00545b0 1999-01-07   \n",
       "\n",
       "          day                                               tags  \n",
       "435  Thursday  [Enlightenment, 18th Century, Philosophy, Hist...  \n",
       "863  Thursday      [20th Century, Philosophy, Culture, Feminism]  "
      ]
     },
     "execution_count": 196,
     "metadata": {},
     "output_type": "execute_result"
    }
   ],
   "source": [
    "filt_list(df, 'Feminism')"
   ]
  },
  {
   "cell_type": "code",
   "execution_count": null,
   "metadata": {},
   "outputs": [],
   "source": []
  },
  {
   "cell_type": "code",
   "execution_count": null,
   "metadata": {},
   "outputs": [],
   "source": []
  }
 ],
 "metadata": {
  "kernelspec": {
   "display_name": "Python 3",
   "language": "python",
   "name": "python3"
  },
  "language_info": {
   "codemirror_mode": {
    "name": "ipython",
    "version": 3
   },
   "file_extension": ".py",
   "mimetype": "text/x-python",
   "name": "python",
   "nbconvert_exporter": "python",
   "pygments_lexer": "ipython3",
   "version": "3.7.9"
  }
 },
 "nbformat": 4,
 "nbformat_minor": 4
}
